{
  "cells": [
    {
      "cell_type": "markdown",
      "metadata": {
        "id": "view-in-github",
        "colab_type": "text"
      },
      "source": [
        "<a href=\"https://colab.research.google.com/github/MostafaAshraf98/Google-Colab/blob/main/Clothes_Description_Model.ipynb\" target=\"_parent\"><img src=\"https://colab.research.google.com/assets/colab-badge.svg\" alt=\"Open In Colab\"/></a>"
      ]
    },
    {
      "cell_type": "code",
      "execution_count": 1,
      "metadata": {
        "id": "vkdptVl8miQ8"
      },
      "outputs": [],
      "source": [
        "#----------------------------IMPORTS----------------------------\n",
        "import cv2\n",
        "import io\n",
        "import numpy as np\n",
        "import os\n",
        "import random\n",
        "import pickle\n",
        "import tensorflow as tf\n",
        "import keras \n",
        "import pandas as pd\n",
        "import matplotlib.pyplot as plt\n",
        "from sklearn.model_selection import train_test_split\n",
        "from tensorflow.keras.applications.resnet50 import ResNet50\n",
        "from tensorflow.keras.layers import Dense, Flatten\n",
        "from tensorflow.keras.models import Model\n",
        "from tensorflow.keras.callbacks import EarlyStopping\n",
        "from tensorflow.keras.callbacks import ModelCheckpoint\n",
        "from tensorflow.keras.preprocessing.image import ImageDataGenerator\n"
      ]
    },
    {
      "cell_type": "code",
      "source": [
        "#----------------------------UNZIP FILE AT GOOGLE COLAB---------------------------------\n",
        "\n",
        "from zipfile import ZipFile\n",
        "file_name = \"Dataset 1.zip\"\n",
        "with ZipFile(file_name,'r') as zip_1:\n",
        "  zip_1.extractall()\n",
        "  print('Done')"
      ],
      "metadata": {
        "id": "T-gSPm7z43iQ"
      },
      "execution_count": null,
      "outputs": []
    },
    {
      "cell_type": "code",
      "source": [
        "#---------------------------- MOUNTING GOOGLE DRIVE AT GOOGLE COLAB---------------------\n",
        "from google.colab import drive\n",
        "drive.mount('/content/drive')"
      ],
      "metadata": {
        "colab": {
          "base_uri": "https://localhost:8080/"
        },
        "id": "9ZhXTJVtyuuu",
        "outputId": "540e9136-76c1-46ee-a2dc-5cab0df35d19"
      },
      "execution_count": 2,
      "outputs": [
        {
          "output_type": "stream",
          "name": "stdout",
          "text": [
            "Drive already mounted at /content/drive; to attempt to forcibly remount, call drive.mount(\"/content/drive\", force_remount=True).\n"
          ]
        }
      ]
    },
    {
      "cell_type": "code",
      "execution_count": 3,
      "metadata": {
        "colab": {
          "base_uri": "https://localhost:8080/"
        },
        "id": "Ddbz6NhemiQ_",
        "outputId": "dad2687e-ff57-4987-958b-0325baa257a3"
      },
      "outputs": [
        {
          "output_type": "stream",
          "name": "stdout",
          "text": [
            "There are 18 classes: ['T-Shirt' 'Shoes' 'Shorts' 'Shirt' 'Pants' 'Skirt' 'Top' 'Outwear'\n",
            " 'Dress' 'Body' 'Longsleeve' 'Undershirt' 'Hat' 'Polo' 'Blouse' 'Hoodie'\n",
            " 'Skip' 'Blazer']\n"
          ]
        }
      ],
      "source": [
        "#---------------------------READING DATASET LABELS----------------------\n",
        "\n",
        "# images_path = \"D:\\Work\\CCE\\Year 4 - Senior 2\\Semester 1\\Senior-2-Semester-1\\GP\\Graduation-Project\\Clothes Description Module\\Datasets\\Dataset 1\\Images\"\n",
        "# csv_path = \"D:\\Work\\CCE\\Year 4 - Senior 2\\Semester 1\\Senior-2-Semester-1\\GP\\Graduation-Project\\Clothes Description Module\\Datasets\\Dataset 1\\CSV\\images.csv\"\n",
        "images_path = \"/content/drive/MyDrive/GP Colab/Dataset 1/Images\"\n",
        "csv_path = \"/content/drive/MyDrive/GP Colab/Dataset 1/CSV/images.csv\"\n",
        "df = pd.read_csv(csv_path) # Reading the csv file into a dataframe using pandas\n",
        "df.head() # Displaying the first 5 rows of the dataframe\n",
        "\n",
        "# # Removing all entries with label = Not sure or label Other\n",
        "df = df[df['label'] != 'Not sure']\n",
        "df = df[df['label'] != 'Other']\n",
        "\n",
        "#Remove colums: sender_id and kids\n",
        "df = df.drop(['sender_id', 'kids'], axis=1)\n",
        "df.head() # Displaying the first 5 rows of the dataframe\n",
        "\n",
        "# Extract Unique Labels = Number of classes but remove the 'Not sure' and 'Other' labels\n",
        "class_names = df['label'].unique()\n",
        "num_classes = len(class_names)\n",
        "class_ids = dict(zip(class_names, range(num_classes))) # Make a dictionary of class names and their corresponding ids\n",
        "\n",
        "print(f'There are {num_classes} classes: {class_names}')"
      ]
    },
    {
      "cell_type": "code",
      "source": [
        "#------------------------------ RESIZING IMAGES - NUMBER OF FEATURES -------------------------------------\n",
        "IMAGE_HEIGHT =  128\n",
        "IMAGE_WIDTH = 128"
      ],
      "metadata": {
        "id": "pTsf-QyiCzh_"
      },
      "execution_count": 4,
      "outputs": []
    },
    {
      "cell_type": "code",
      "execution_count": 5,
      "metadata": {
        "id": "dpQP9v6TmiRA"
      },
      "outputs": [],
      "source": [
        "#---------------------------READING IMAGES AND THEIR LABELS----------------------\n",
        "images = []\n",
        "images_labels = []\n",
        "\n",
        "#Read all the images in the file with the path images_path\n",
        "for filename in os.listdir(images_path):\n",
        "    image_path = os.path.join(images_path, filename)\n",
        "    image = cv2.imread(image_path)\n",
        "    filename = filename.split('.')[0]\n",
        "    label = df.loc[df['image'] == filename]['label']\n",
        "    if(label.empty or image is None):\n",
        "        continue\n",
        "    label = label.values[0]\n",
        "    image = cv2.resize(image, (IMAGE_HEIGHT, IMAGE_WIDTH))\n",
        "    images.append(image)\n",
        "    images_labels.append(class_ids[label])\n",
        "        \n",
        "# Convert the images and labels to numpy arrays        \n",
        "images = np.array(images, dtype=np.float32)\n",
        "images_labels = np.array(images_labels, dtype=np.int32)"
      ]
    },
    {
      "cell_type": "code",
      "execution_count": 6,
      "metadata": {
        "id": "3KywPOPfmiRA"
      },
      "outputs": [],
      "source": [
        "#Normalize the images\n",
        "images = images / 255.0"
      ]
    },
    {
      "cell_type": "code",
      "execution_count": 7,
      "metadata": {
        "colab": {
          "base_uri": "https://localhost:8080/"
        },
        "id": "D3_PYEUCmiRB",
        "outputId": "c4bf3d33-4dbf-4561-b72e-59bd21e72347"
      },
      "outputs": [
        {
          "output_type": "stream",
          "name": "stdout",
          "text": [
            "Dataset Size: 5103\n",
            "Training set size: 3571 images\n",
            "Cross-validation set size: 766 images\n",
            "Testing set size: 766 images\n"
          ]
        }
      ],
      "source": [
        "#----------------------------------------DATA SPLITTING----------------------------------------\n",
        "\n",
        "# Split the dataset into 70% for training and 15% for testing and 15% for cross-validation\n",
        "trainval_images, x_test, trainval_labels, y_test = train_test_split(images, images_labels, test_size=0.15, random_state=42)\n",
        "\n",
        "x_train, x_cv, y_train, y_cv = train_test_split(trainval_images, trainval_labels, test_size=0.15/0.85, random_state=42)\n",
        "\n",
        "m_train = len(x_train)\n",
        "m_test = len(x_test)\n",
        "m_cv = len(x_cv)\n",
        "\n",
        "del trainval_images\n",
        "del trainval_labels\n",
        "\n",
        "# Print the size of each set\n",
        "print(f\"Dataset Size: {images.shape[0]}\")\n",
        "print(f\"Training set size: {m_train} images\")\n",
        "print(f\"Cross-validation set size: {m_cv} images\")\n",
        "print(f\"Testing set size: {m_test} images\")"
      ]
    },
    {
      "cell_type": "code",
      "source": [
        "#--------------------------------------DATA AUGMENTATION-----------------------------------------\n",
        "\n",
        "# Define image data generator for data augmentation\n",
        "datagen = ImageDataGenerator(\n",
        "    rotation_range=40,  # randomly rotate images by up to 40 degrees\n",
        "    width_shift_range=0.3,  # randomly shift images horizontally by up to 30%\n",
        "    height_shift_range=0.3,  # randomly shift images vertically by up to 30%\n",
        "    shear_range=0.2,  # randomly apply shearing transformations\n",
        "    zoom_range=0.3,  # randomly zoom in on images by up to 30%\n",
        "    channel_shift_range=20,  # randomly adjust brightness\n",
        "    brightness_range=[0.5, 1.5],  # randomly adjust brightness\n",
        "    horizontal_flip=True,  # randomly flip images horizontally\n",
        "    vertical_flip=True,  # randomly flip images vertically\n",
        "    fill_mode='nearest'  # fill in any gaps with the nearest pixel value\n",
        ")\n",
        "\n",
        "x_train = x_train * 255.0\n",
        "# Fit the data generator to your training data\n",
        "datagen.fit(x_train)\n",
        "\n",
        "# Define a function to generate augmented images and labels\n",
        "def generate_augmented_data(x, y, batch_size):\n",
        "    gen = datagen.flow(x, y, batch_size=batch_size)\n",
        "    while True:\n",
        "        x_batch, y_batch = gen.next()\n",
        "        yield x_batch, y_batch\n",
        "\n",
        "# Set batch size for training\n",
        "batch_size = 500\n",
        "\n",
        "# Generate augmented images and labels using the function defined above\n",
        "augmented_data = generate_augmented_data(x_train, y_train, batch_size)\n",
        "x_augmented, y_augmented = next(augmented_data)\n",
        "\n",
        "# Concatenate the original training set and the augmented images\n",
        "x_train = np.concatenate((x_train, x_augmented))\n",
        "x_train = x_train / 255.0\n",
        "m_train = x_train.shape[0]\n",
        "\n",
        "# Concatenate the original labels and the augmented labels\n",
        "y_train = np.concatenate((y_train, y_augmented))\n",
        "y_train = np.reshape(y_train,(y_train.shape[0],1))\n",
        "\n",
        "print(m_train)\n",
        "print(x_train.shape)\n",
        "print(y_train.shape)\n"
      ],
      "metadata": {
        "id": "wT_1O-cXDx6z",
        "colab": {
          "base_uri": "https://localhost:8080/"
        },
        "outputId": "d3c8dff9-4f51-4708-9016-1175bc6d1a50"
      },
      "execution_count": 8,
      "outputs": [
        {
          "output_type": "stream",
          "name": "stdout",
          "text": [
            "(4071, 128, 128, 3)\n",
            "(4071, 1)\n"
          ]
        }
      ]
    },
    {
      "cell_type": "code",
      "source": [
        "#-------------------------SHOWING ONE IMAGE--------------------------------------\n",
        "# image = x_augmented[1]/255.0\n",
        "# label = y_augmented[1]\n",
        "image = x_train[4000]\n",
        "label = y_train[4000]\n",
        "print(f\"Image shape is {image.shape} with max value = {np.max(image)}\")\n",
        "category = class_names[label]\n",
        "print(category)\n",
        "plt.imshow(image)\n",
        "plt.show()"
      ],
      "metadata": {
        "colab": {
          "base_uri": "https://localhost:8080/",
          "height": 303
        },
        "id": "ucIOACRJREVA",
        "outputId": "4c530aee-9adf-43fb-9f10-8092c7815c72"
      },
      "execution_count": 12,
      "outputs": [
        {
          "output_type": "stream",
          "name": "stdout",
          "text": [
            "Image shape is (128, 128, 3) with max value = 1.0\n",
            "['T-Shirt']\n"
          ]
        },
        {
          "output_type": "display_data",
          "data": {
            "text/plain": [
              "<Figure size 432x288 with 1 Axes>"
            ],
            "image/png": "[encoded data removed]"
          },
          "metadata": {
            "needs_background": "light"
          }
        }
      ]
    },
    {
      "cell_type": "code",
      "execution_count": 13,
      "metadata": {
        "id": "atIV-9UamiRB"
      },
      "outputs": [],
      "source": [
        "#----------------------------------------BUILD MODEL USING TRANSFER LEARNING----------------------------------------\n",
        "\n",
        "# Use ResNet pretrained model\n",
        "# Load the pre-trained ResNet50 model without the top layer (i.e., the fully connected layers)\n",
        "resnet_model = ResNet50(weights='imagenet', include_top=False, input_shape=(IMAGE_HEIGHT, IMAGE_WIDTH, 3))\n",
        "\n",
        "# Freeze the pre-trained layers to avoid changing their weights during training\n",
        "for layer in resnet_model.layers:\n",
        "    layer.trainable = True\n",
        "\n",
        "# Add a new fully connected layer for the specific classification task\n",
        "x = Flatten()(resnet_model.output)\n",
        "x = Dense(512, activation='relu', input_shape = (IMAGE_HEIGHT, IMAGE_WIDTH, 3),kernel_regularizer=tf.keras.regularizers.l2(0.5))(x)\n",
        "x = tf.keras.layers.Dropout(0.5)(x)\n",
        "x = Dense(num_classes, activation='linear', input_shape = (IMAGE_HEIGHT, IMAGE_WIDTH, 3),kernel_regularizer=tf.keras.regularizers.l2(0.5))(x)\n",
        "\n",
        "# Create a new model by combining the pre-trained ResNet50 model with the new fully connected layers\n",
        "model = Model(inputs=resnet_model.input, outputs=x)\n",
        "\n",
        "# Compile the model\n",
        "model.compile(optimizer=tf.keras.optimizers.Adam(learning_rate=0.0001),\n",
        "              loss=tf.keras.losses.SparseCategoricalCrossentropy(from_logits=True),\n",
        "              metrics=['accuracy'])"
      ]
    },
    {
      "cell_type": "code",
      "execution_count": 20,
      "metadata": {
        "id": "T-eRV3I2miRC"
      },
      "outputs": [],
      "source": [
        "#----------------------------------------BUILD MODEL USING CNN----------------------------------------\n",
        "\n",
        "# Create a convolutional neural network (CNN)\n",
        "model = tf.keras.models.Sequential([\n",
        "    tf.keras.layers.Conv2D(32, (3, 3), activation='relu', input_shape = (IMAGE_HEIGHT, IMAGE_WIDTH, 3), name = 'Conv1'),\n",
        "    tf.keras.layers.MaxPooling2D(2, 2, name = 'Max1'),\n",
        "    tf.keras.layers.Conv2D(64, (5, 5), padding = 'same', activation='relu', name = 'Conv2'),\n",
        "    tf.keras.layers.MaxPooling2D(2, 2, name = 'Max2'),\n",
        "    tf.keras.layers.Conv2D(128, (3, 3), activation='relu', name = 'Conv3'),\n",
        "    tf.keras.layers.MaxPooling2D(2, 2, name = 'Max3'),\n",
        "    tf.keras.layers.Conv2D(512, (5, 5), strides = 2, activation='relu', name = 'Conv4'),\n",
        "    tf.keras.layers.MaxPooling2D(2, 2, name = 'Max4'),\n",
        "    tf.keras.layers.Flatten(),\n",
        "    tf.keras.layers.Dense(512, activation='relu', kernel_regularizer=tf.keras.regularizers.l2(0.01), name = 'Dense1'),    \n",
        "    tf.keras.layers.Dense(128, activation='relu', kernel_regularizer=tf.keras.regularizers.l2(0.01), name = 'Dense2'),    \n",
        "    tf.keras.layers.Dense(len(class_names), activation='linear', name = 'Dense3')\n",
        "])\n",
        "\n",
        "# Compile the model\n",
        "model.compile(\n",
        "    optimizer=tf.keras.optimizers.Adam(learning_rate=0.001),\n",
        "    loss=tf.keras.losses.SparseCategoricalCrossentropy(from_logits=True),\n",
        "    metrics=['accuracy']\n",
        ")\n"
      ]
    },
    {
      "cell_type": "code",
      "execution_count": 14,
      "metadata": {
        "colab": {
          "base_uri": "https://localhost:8080/"
        },
        "id": "wDvLxBxtmiRC",
        "outputId": "20f89d89-a5b0-49b7-e179-dee04a7e46ed"
      },
      "outputs": [
        {
          "output_type": "stream",
          "name": "stdout",
          "text": [
            "Epoch 1/20\n",
            "136/136 [==============================] - 58s 158ms/step - loss: 230.4894 - accuracy: 0.5235 - val_loss: 75.4173 - val_accuracy: 0.0927\n",
            "Epoch 2/20\n",
            "136/136 [==============================] - 18s 129ms/step - loss: 33.9576 - accuracy: 0.7794 - val_loss: 21.8613 - val_accuracy: 0.0248\n",
            "Epoch 3/20\n",
            "136/136 [==============================] - 17s 124ms/step - loss: 11.3743 - accuracy: 0.8725 - val_loss: 11.3609 - val_accuracy: 0.0692\n",
            "Epoch 4/20\n",
            "136/136 [==============================] - 20s 148ms/step - loss: 6.6133 - accuracy: 0.9275 - val_loss: 7.8852 - val_accuracy: 0.2402\n",
            "Epoch 5/20\n",
            "136/136 [==============================] - 22s 161ms/step - loss: 4.3880 - accuracy: 0.9479 - val_loss: 5.0656 - val_accuracy: 0.5509\n",
            "Epoch 6/20\n",
            "136/136 [==============================] - 20s 147ms/step - loss: 2.9287 - accuracy: 0.9693 - val_loss: 3.3304 - val_accuracy: 0.7350\n",
            "Epoch 7/20\n",
            "136/136 [==============================] - 20s 146ms/step - loss: 1.9846 - accuracy: 0.9745 - val_loss: 2.2646 - val_accuracy: 0.8172\n",
            "Epoch 8/20\n",
            "136/136 [==============================] - 20s 144ms/step - loss: 1.3514 - accuracy: 0.9826 - val_loss: 1.6412 - val_accuracy: 0.8407\n",
            "Epoch 9/20\n",
            "136/136 [==============================] - 19s 142ms/step - loss: 0.9651 - accuracy: 0.9828 - val_loss: 1.3005 - val_accuracy: 0.8499\n",
            "Epoch 10/20\n",
            "136/136 [==============================] - 17s 128ms/step - loss: 0.7289 - accuracy: 0.9843 - val_loss: 1.2529 - val_accuracy: 0.8420\n",
            "Epoch 11/20\n",
            "136/136 [==============================] - 20s 149ms/step - loss: 0.5962 - accuracy: 0.9848 - val_loss: 0.9931 - val_accuracy: 0.8525\n",
            "Epoch 12/20\n",
            "136/136 [==============================] - 17s 124ms/step - loss: 0.4945 - accuracy: 0.9855 - val_loss: 1.0603 - val_accuracy: 0.8238\n",
            "Epoch 13/20\n",
            "136/136 [==============================] - 17s 125ms/step - loss: 0.4507 - accuracy: 0.9843 - val_loss: 0.9375 - val_accuracy: 0.8433\n",
            "Epoch 14/20\n",
            "136/136 [==============================] - 17s 124ms/step - loss: 0.4222 - accuracy: 0.9853 - val_loss: 0.9560 - val_accuracy: 0.8460\n",
            "Epoch 15/20\n",
            "136/136 [==============================] - 17s 124ms/step - loss: 0.4368 - accuracy: 0.9759 - val_loss: 1.0255 - val_accuracy: 0.8251\n",
            "Epoch 16/20\n",
            "136/136 [==============================] - 17s 125ms/step - loss: 0.4646 - accuracy: 0.9747 - val_loss: 0.9389 - val_accuracy: 0.8420\n",
            "Epoch 17/20\n",
            "136/136 [==============================] - 17s 126ms/step - loss: 0.4333 - accuracy: 0.9759 - val_loss: 1.1217 - val_accuracy: 0.8055\n",
            "Epoch 17: early stopping\n"
          ]
        }
      ],
      "source": [
        "#-----------------------------------------------TRAINING----------------------------------------\n",
        "\n",
        "# Define the EarlyStopping callback\n",
        "# the training process will stop if the validation loss does not improve after 4 epochs.\n",
        "early_stopping = EarlyStopping(monitor='val_loss', patience=4, verbose=1)\n",
        "\n",
        "# Define the ModelCheckpoint callback\n",
        "# his callback can be used to save the best model weights during training based on a given metric (e.g., validation accuracy or loss).\n",
        "checkpoint = ModelCheckpoint('best_model.h5', monitor='val_accuracy', save_best_only=True)\n",
        "\n",
        "history = model.fit(x_train, y_train, epochs=20, batch_size=30, validation_data=(x_cv, y_cv),callbacks=[early_stopping,checkpoint])\n",
        "# history = model.fit(x_train, y_train, epochs=20, batch_size=30, validation_data=(x_cv, y_cv))"
      ]
    },
    {
      "cell_type": "code",
      "execution_count": null,
      "metadata": {
        "id": "jIFHrCNtmiRD"
      },
      "outputs": [],
      "source": [
        "#----------------------------------DELETE MODEL----------------------------------\n",
        "del model"
      ]
    },
    {
      "cell_type": "code",
      "execution_count": null,
      "metadata": {
        "id": "YSosIXmomiRD",
        "colab": {
          "base_uri": "https://localhost:8080/"
        },
        "outputId": "a705c4a1-23b5-4b62-9fad-c3e0c4eaf4f9"
      },
      "outputs": [
        {
          "output_type": "stream",
          "name": "stdout",
          "text": [
            "Keras weights file (<HDF5 file \"variables.h5\" (mode r+)>) saving:\n",
            "...layers\n",
            "......activation\n",
            ".........vars\n",
            "......activation_1\n",
            ".........vars\n",
            "......activation_10\n",
            ".........vars\n",
            "......activation_11\n",
            ".........vars\n",
            "......activation_12\n",
            ".........vars\n",
            "......activation_13\n",
            ".........vars\n",
            "......activation_14\n",
            ".........vars\n",
            "......activation_15\n",
            ".........vars\n",
            "......activation_16\n",
            ".........vars\n",
            "......activation_17\n",
            ".........vars\n",
            "......activation_18\n",
            ".........vars\n",
            "......activation_19\n",
            ".........vars\n",
            "......activation_2\n",
            ".........vars\n",
            "......activation_20\n",
            ".........vars\n",
            "......activation_21\n",
            ".........vars\n",
            "......activation_22\n",
            ".........vars\n",
            "......activation_23\n",
            ".........vars\n",
            "......activation_24\n",
            ".........vars\n",
            "......activation_25\n",
            ".........vars\n",
            "......activation_26\n",
            ".........vars\n",
            "......activation_27\n",
            ".........vars\n",
            "......activation_28\n",
            ".........vars\n",
            "......activation_29\n",
            ".........vars\n",
            "......activation_3\n",
            ".........vars\n",
            "......activation_30\n",
            ".........vars\n",
            "......activation_31\n",
            ".........vars\n",
            "......activation_32\n",
            ".........vars\n",
            "......activation_33\n",
            ".........vars\n",
            "......activation_34\n",
            ".........vars\n",
            "......activation_35\n",
            ".........vars\n",
            "......activation_36\n",
            ".........vars\n",
            "......activation_37\n",
            ".........vars\n",
            "......activation_38\n",
            ".........vars\n",
            "......activation_39\n",
            ".........vars\n",
            "......activation_4\n",
            ".........vars\n",
            "......activation_40\n",
            ".........vars\n",
            "......activation_41\n",
            ".........vars\n",
            "......activation_42\n",
            ".........vars\n",
            "......activation_43\n",
            ".........vars\n",
            "......activation_44\n",
            ".........vars\n",
            "......activation_45\n",
            ".........vars\n",
            "......activation_46\n",
            ".........vars\n",
            "......activation_47\n",
            ".........vars\n",
            "......activation_48\n",
            ".........vars\n",
            "......activation_5\n",
            ".........vars\n",
            "......activation_6\n",
            ".........vars\n",
            "......activation_7\n",
            ".........vars\n",
            "......activation_8\n",
            ".........vars\n",
            "......activation_9\n",
            ".........vars\n",
            "......add\n",
            ".........vars\n",
            "......add_1\n",
            ".........vars\n",
            "......add_10\n",
            ".........vars\n",
            "......add_11\n",
            ".........vars\n",
            "......add_12\n",
            ".........vars\n",
            "......add_13\n",
            ".........vars\n",
            "......add_14\n",
            ".........vars\n",
            "......add_15\n",
            ".........vars\n",
            "......add_2\n",
            ".........vars\n",
            "......add_3\n",
            ".........vars\n",
            "......add_4\n",
            ".........vars\n",
            "......add_5\n",
            ".........vars\n",
            "......add_6\n",
            ".........vars\n",
            "......add_7\n",
            ".........vars\n",
            "......add_8\n",
            ".........vars\n",
            "......add_9\n",
            ".........vars\n",
            "......batch_normalization\n",
            ".........vars\n",
            "............0\n",
            "............1\n",
            "............2\n",
            "............3\n",
            "......batch_normalization_1\n",
            ".........vars\n",
            "............0\n",
            "............1\n",
            "............2\n",
            "............3\n",
            "......batch_normalization_10\n",
            ".........vars\n",
            "............0\n",
            "............1\n",
            "............2\n",
            "............3\n",
            "......batch_normalization_11\n",
            ".........vars\n",
            "............0\n",
            "............1\n",
            "............2\n",
            "............3\n",
            "......batch_normalization_12\n",
            ".........vars\n",
            "............0\n",
            "............1\n",
            "............2\n",
            "............3\n",
            "......batch_normalization_13\n",
            ".........vars\n",
            "............0\n",
            "............1\n",
            "............2\n",
            "............3\n",
            "......batch_normalization_14\n",
            ".........vars\n",
            "............0\n",
            "............1\n",
            "............2\n",
            "............3\n",
            "......batch_normalization_15\n",
            ".........vars\n",
            "............0\n",
            "............1\n",
            "............2\n",
            "............3\n",
            "......batch_normalization_16\n",
            ".........vars\n",
            "............0\n",
            "............1\n",
            "............2\n",
            "............3\n",
            "......batch_normalization_17\n",
            ".........vars\n",
            "............0\n",
            "............1\n",
            "............2\n",
            "............3\n",
            "......batch_normalization_18\n",
            ".........vars\n",
            "............0\n",
            "............1\n",
            "............2\n",
            "............3\n",
            "......batch_normalization_19\n",
            ".........vars\n",
            "............0\n",
            "............1\n",
            "............2\n",
            "............3\n",
            "......batch_normalization_2\n",
            ".........vars\n",
            "............0\n",
            "............1\n",
            "............2\n",
            "............3\n",
            "......batch_normalization_20\n",
            ".........vars\n",
            "............0\n",
            "............1\n",
            "............2\n",
            "............3\n",
            "......batch_normalization_21\n",
            ".........vars\n",
            "............0\n",
            "............1\n",
            "............2\n",
            "............3\n",
            "......batch_normalization_22\n",
            ".........vars\n",
            "............0\n",
            "............1\n",
            "............2\n",
            "............3\n",
            "......batch_normalization_23\n",
            ".........vars\n",
            "............0\n",
            "............1\n",
            "............2\n",
            "............3\n",
            "......batch_normalization_24\n",
            ".........vars\n",
            "............0\n",
            "............1\n",
            "............2\n",
            "............3\n",
            "......batch_normalization_25\n",
            ".........vars\n",
            "............0\n",
            "............1\n",
            "............2\n",
            "............3\n",
            "......batch_normalization_26\n",
            ".........vars\n",
            "............0\n",
            "............1\n",
            "............2\n",
            "............3\n",
            "......batch_normalization_27\n",
            ".........vars\n",
            "............0\n",
            "............1\n",
            "............2\n",
            "............3\n",
            "......batch_normalization_28\n",
            ".........vars\n",
            "............0\n",
            "............1\n",
            "............2\n",
            "............3\n",
            "......batch_normalization_29\n",
            ".........vars\n",
            "............0\n",
            "............1\n",
            "............2\n",
            "............3\n",
            "......batch_normalization_3\n",
            ".........vars\n",
            "............0\n",
            "............1\n",
            "............2\n",
            "............3\n",
            "......batch_normalization_30\n",
            ".........vars\n",
            "............0\n",
            "............1\n",
            "............2\n",
            "............3\n",
            "......batch_normalization_31\n",
            ".........vars\n",
            "............0\n",
            "............1\n",
            "............2\n",
            "............3\n",
            "......batch_normalization_32\n",
            ".........vars\n",
            "............0\n",
            "............1\n",
            "............2\n",
            "............3\n",
            "......batch_normalization_33\n",
            ".........vars\n",
            "............0\n",
            "............1\n",
            "............2\n",
            "............3\n",
            "......batch_normalization_34\n",
            ".........vars\n",
            "............0\n",
            "............1\n",
            "............2\n",
            "............3\n",
            "......batch_normalization_35\n",
            ".........vars\n",
            "............0\n",
            "............1\n",
            "............2\n",
            "............3\n",
            "......batch_normalization_36\n",
            ".........vars\n",
            "............0\n",
            "............1\n",
            "............2\n",
            "............3\n",
            "......batch_normalization_37\n",
            ".........vars\n",
            "............0\n",
            "............1\n",
            "............2\n",
            "............3\n",
            "......batch_normalization_38\n",
            ".........vars\n",
            "............0\n",
            "............1\n",
            "............2\n",
            "............3\n",
            "......batch_normalization_39\n",
            ".........vars\n",
            "............0\n",
            "............1\n",
            "............2\n",
            "............3\n",
            "......batch_normalization_4\n",
            ".........vars\n",
            "............0\n",
            "............1\n",
            "............2\n",
            "............3\n",
            "......batch_normalization_40\n",
            ".........vars\n",
            "............0\n",
            "............1\n",
            "............2\n",
            "............3\n",
            "......batch_normalization_41\n",
            ".........vars\n",
            "............0\n",
            "............1\n",
            "............2\n",
            "............3\n",
            "......batch_normalization_42\n",
            ".........vars\n",
            "............0\n",
            "............1\n",
            "............2\n",
            "............3\n",
            "......batch_normalization_43\n"
          ]
        }
      ],
      "source": [
        "#-----------------------------------SAVE MODEL-----------------------------------\n",
        "# model_path = 'clothing_detector.pkl'\n",
        "model_path = \"/content/drive/MyDrive/GP Colab/clothing_detector.pkl\"\n",
        "pickle.dump(model, open(model_path, 'wb'))"
      ]
    },
    {
      "cell_type": "code",
      "source": [
        "#--------------------------------LOADING MODEL FROM CHECKPOINT-------------------------\n",
        "model.load_weights('best_model.h5')"
      ],
      "metadata": {
        "id": "RlQgQpCQDy3o"
      },
      "execution_count": 15,
      "outputs": []
    },
    {
      "cell_type": "code",
      "source": [
        "#-------------------------------- LOADING MODEL FROM PICKL FILE ------------------------\n",
        "# Load the saved model from a .pkl file\n",
        "with open('model.pkl', 'rb') as f:\n",
        "    model = pickle.load(f)\n"
      ],
      "metadata": {
        "id": "2EOrJ035EooH"
      },
      "execution_count": null,
      "outputs": []
    },
    {
      "cell_type": "code",
      "execution_count": 16,
      "metadata": {
        "colab": {
          "base_uri": "https://localhost:8080/"
        },
        "id": "AavzLaiTmiRD",
        "outputId": "10e64189-3afc-451e-9b1c-9b941e787788"
      },
      "outputs": [
        {
          "output_type": "stream",
          "name": "stdout",
          "text": [
            "128/128 [==============================] - 6s 36ms/step\n",
            "24/24 [==============================] - 1s 36ms/step\n",
            "24/24 [==============================] - 1s 34ms/step\n",
            "Train Accuracy = 99.26 % with 4071 training examples\n",
            "CV Accuracy = 85.25 % with 766 cv examples\n",
            "Test Accuracy = 83.81 % with 766 test examples\n"
          ]
        }
      ],
      "source": [
        "#----------------------------------------PREDICTIONS----------------------------------------\n",
        "train_predictions = model.predict(x_train)\n",
        "cv_predictions = model.predict(x_cv)\n",
        "test_predictions = model.predict(x_test)\n",
        "\n",
        "train_count_correct = 0\n",
        "cv_count_correct = 0\n",
        "test_count_correct = 0\n",
        "\n",
        "for i in range(m_train):\n",
        "    predicted = np.argmax(train_predictions[i])\n",
        "    if (predicted == y_train[i]):\n",
        "        train_count_correct += 1\n",
        "train_accuracy = train_count_correct / m_train\n",
        "\n",
        "for i in range(m_test):\n",
        "    predicted = np.argmax(test_predictions[i])\n",
        "    if (predicted == y_test[i]):\n",
        "        test_count_correct += 1\n",
        "test_accuracy = test_count_correct / m_test\n",
        "\n",
        "for i in range(m_cv):\n",
        "    predicted = np.argmax(cv_predictions[i])\n",
        "    if (predicted == y_cv[i]):\n",
        "        cv_count_correct += 1\n",
        "cv_accuracy = cv_count_correct / m_cv\n",
        "\n",
        "print(\"Train Accuracy = %.2f\" % (train_accuracy*100),'% with', m_train, 'training examples')\n",
        "print(\"CV Accuracy = %.2f\" % (cv_accuracy*100),'% with', m_cv, 'cv examples')\n",
        "print(\"Test Accuracy = %.2f\" % (test_accuracy*100),'% with', m_test, 'test examples')\n"
      ]
    }
  ],
  "metadata": {
    "kernelspec": {
      "display_name": "Python 3",
      "language": "python",
      "name": "python3"
    },
    "language_info": {
      "codemirror_mode": {
        "name": "ipython",
        "version": 3
      },
      "file_extension": ".py",
      "mimetype": "text/x-python",
      "name": "python",
      "nbconvert_exporter": "python",
      "pygments_lexer": "ipython3",
      "version": "3.9.3"
    },
    "orig_nbformat": 4,
    "vscode": {
      "interpreter": {
        "hash": "104451bbd5af0301cd2444e0cd70e99d9901e7de2f5bbc69a1b6555b99a1a266"
      }
    },
    "colab": {
      "provenance": [],
      "include_colab_link": true
    },
    "accelerator": "GPU",
    "gpuClass": "standard"
  },
  "nbformat": 4,
  "nbformat_minor": 0
}